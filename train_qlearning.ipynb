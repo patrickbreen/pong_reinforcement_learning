{
 "cells": [
  {
   "cell_type": "code",
   "execution_count": 1,
   "metadata": {
    "collapsed": false
   },
   "outputs": [],
   "source": [
    "import os\n",
    "\n",
    "from PIL import Image\n",
    "import numpy as np\n",
    "import matplotlib.pyplot as plt\n",
    "%matplotlib inline\n",
    "\n",
    "actions = []\n",
    "scores = []\n",
    "screens = []\n",
    "\n",
    "action_files = os.listdir(\"saved_gameplay/actions/\")\n",
    "action_files.sort()\n",
    "\n",
    "for action_file in action_files:\n",
    "  file_name = \"saved_gameplay/actions/\" + action_file\n",
    "  action = np.load(file_name)\n",
    "  actions.append(action)\n",
    "\n",
    "with open(\"saved_gameplay/scores.txt\") as f:\n",
    "  for l in f:\n",
    "    scores.append(int(l))\n",
    "\n",
    "screen_files = os.listdir(\"saved_gameplay/screens/\")\n",
    "screen_files.sort()\n",
    "\n",
    "for screen_file in screen_files:\n",
    "  file_name = \"saved_gameplay/screens/\" + screen_file\n",
    "  screen = np.load(file_name)\n",
    "  screens.append(screen)"
   ]
  },
  {
   "cell_type": "code",
   "execution_count": 2,
   "metadata": {
    "collapsed": false
   },
   "outputs": [
    {
     "name": "stdout",
     "output_type": "stream",
     "text": [
      "action: [0 0 1]\n",
      "score: 0\n"
     ]
    },
    {
     "data": {
      "text/plain": [
       "(200, 280, 3)"
      ]
     },
     "execution_count": 2,
     "metadata": {},
     "output_type": "execute_result"
    },
    {
     "data": {
      "image/png": "[encoded data removed]",
      "text/plain": [
       "<matplotlib.figure.Figure at 0x7f8f90331160>"
      ]
     },
     "metadata": {},
     "output_type": "display_data"
    }
   ],
   "source": [
    "# red_screens = [get_channels_from_hex(s)[0] for s in screens]\n",
    "plt.imshow(screens[0])\n",
    "print(\"action:\", actions[0])\n",
    "print(\"score:\", scores[0])\n",
    "screens[0].shape"
   ]
  },
  {
   "cell_type": "code",
   "execution_count": 3,
   "metadata": {
    "collapsed": false
   },
   "outputs": [
    {
     "name": "stderr",
     "output_type": "stream",
     "text": [
      "Using TensorFlow backend.\n"
     ]
    }
   ],
   "source": [
    "# Start with a simple MLP that takes two sequential screens and predicts the move\n",
    "# based on some play history (probably a human player history)\n",
    "# We're going to use 2 screens to give a sense of velocity to the neural network\n",
    "\n",
    "# this is a really simple method that uses no reinforcement learning, and no convolutional nets\n",
    "\n",
    "from functools import reduce\n",
    "from keras.models import Sequential\n",
    "from keras.layers import Dense\n",
    "\n",
    "X = []\n",
    "Y = []\n",
    "\n",
    "for i in range(0, len(screens)-2, 2):\n",
    "  screen1 = screens[i].flatten()\n",
    "  screen2 = screens[i+1].flatten()\n",
    "  two_screens = np.concatenate((screen1, screen2))\n",
    "  X.append(two_screens)\n",
    "  Y.append(actions[i + 1])\n",
    "\n",
    "X = np.array(X)\n",
    "Y = np.array(Y)\n",
    "\n",
    "screen_pixels = reduce(lambda x, y: x*y, screens[0].shape)\n",
    "input_dim = screen_pixels * 2"
   ]
  },
  {
   "cell_type": "code",
   "execution_count": 4,
   "metadata": {
    "collapsed": false
   },
   "outputs": [
    {
     "name": "stdout",
     "output_type": "stream",
     "text": [
      "Epoch 1/5\n",
      "132/132 [==============================] - 1s - loss: 0.6149 - acc: 0.7399     \n",
      "Epoch 2/5\n",
      "132/132 [==============================] - 1s - loss: 0.3046 - acc: 0.8864     \n",
      "Epoch 3/5\n",
      "132/132 [==============================] - 1s - loss: 0.2355 - acc: 0.9040     \n",
      "Epoch 4/5\n",
      "132/132 [==============================] - 1s - loss: 0.1869 - acc: 0.9167     \n",
      "Epoch 5/5\n",
      "132/132 [==============================] - 1s - loss: 0.1673 - acc: 0.9318     \n"
     ]
    }
   ],
   "source": [
    "# make simple MLP model using keras\n",
    "# by the way, if you have a small memory GPU this will blow it up\n",
    "\n",
    "\n",
    "model = Sequential()\n",
    "model.add(Dense(12, input_dim=input_dim, init='uniform', activation='relu'))\n",
    "model.add(Dense(8, init='uniform', activation='relu'))\n",
    "model.add(Dense(3, init='uniform', activation='sigmoid'))\n",
    "model.compile(loss='binary_crossentropy', optimizer='adam', metrics=['accuracy'])\n",
    "model.fit(X, Y, nb_epoch=5, batch_size=10)\n",
    "\n",
    "model.save(\"saved_models/simple_MLP_supervised_weights.h5\")"
   ]
  },
  {
   "cell_type": "code",
   "execution_count": 5,
   "metadata": {
    "collapsed": false
   },
   "outputs": [
    {
     "data": {
      "text/plain": [
       "array([ 0.00873377,  0.03249474,  0.91946584], dtype=float32)"
      ]
     },
     "execution_count": 5,
     "metadata": {},
     "output_type": "execute_result"
    }
   ],
   "source": [
    "# lets make an importable function that takes two screens and returns an\n",
    "# output from the above simplistic model\n",
    "# we can import this into a game play module and let the computer play\n",
    "from keras.models import load_model\n",
    "\n",
    "model = load_model(\"saved_models/simple_MLP_supervised_weights.h5\")\n",
    "def simple_computer_player(two_screens):\n",
    "  action = model.predict(X[0, np.newaxis], batch_size=1, verbose=0)[0]\n",
    "  return action\n",
    "\n",
    "# here's an example of the simple_computer_player in action:\n",
    "simple_computer_player(X[0])"
   ]
  },
  {
   "cell_type": "code",
   "execution_count": 6,
   "metadata": {
    "collapsed": false
   },
   "outputs": [],
   "source": [
    "# TODO, actually use reinforcement learning\n",
    "\n",
    "# 1) train Q using basic Q learning update function on past history\n",
    "# 2) play game using trained Q to epsilon greedily select the action with max Q value\n",
    "# 3) repeat with step 1)"
   ]
  },
  {
   "cell_type": "code",
   "execution_count": null,
   "metadata": {
    "collapsed": false
   },
   "outputs": [],
   "source": []
  },
  {
   "cell_type": "code",
   "execution_count": null,
   "metadata": {
    "collapsed": false
   },
   "outputs": [],
   "source": []
  },
  {
   "cell_type": "code",
   "execution_count": null,
   "metadata": {
    "collapsed": true
   },
   "outputs": [],
   "source": []
  }
 ],
 "metadata": {
  "kernelspec": {
   "display_name": "Python 3",
   "language": "python",
   "name": "python3"
  },
  "language_info": {
   "codemirror_mode": {
    "name": "ipython",
    "version": 3
   },
   "file_extension": ".py",
   "mimetype": "text/x-python",
   "name": "python",
   "nbconvert_exporter": "python",
   "pygments_lexer": "ipython3",
   "version": "3.5.2"
  }
 },
 "nbformat": 4,
 "nbformat_minor": 1
}
