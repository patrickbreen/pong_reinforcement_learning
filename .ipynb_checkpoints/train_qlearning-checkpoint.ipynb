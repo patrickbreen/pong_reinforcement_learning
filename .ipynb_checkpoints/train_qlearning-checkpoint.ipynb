{
 "cells": [
  {
   "cell_type": "code",
   "execution_count": 52,
   "metadata": {
    "collapsed": true
   },
   "outputs": [],
   "source": [
    "from PIL import Image\n",
    "import numpy as np\n",
    "import matplotlib.pyplot as plt\n",
    "%matplotlib inline\n",
    "\n",
    "actions = []\n",
    "scores = []\n",
    "screens = []\n",
    "\n",
    "with open(\"saved_gameplay/actions.txt\") as f:\n",
    "  for l in f:\n",
    "    actions.append(int(l))\n",
    "\n",
    "with open(\"saved_gameplay/scores.txt\") as f:\n",
    "  for l in f:\n",
    "    scores.append(int(l))\n",
    "\n",
    "with open(\"saved_gameplay/screens.txt\") as f:\n",
    "  for l in f:\n",
    "    screens.append(l)\n",
    "\n",
    "# q is a function that takes a state (screen)\n",
    "# and an action (up, down, nothing) and predicts a long term reward"
   ]
  },
  {
   "cell_type": "code",
   "execution_count": 95,
   "metadata": {
    "collapsed": false
   },
   "outputs": [],
   "source": [
    "def get_img_mat_from_hex(screen):\n",
    "  screen = screen.strip()\n",
    "\n",
    "  width = 140\n",
    "  height = 100\n",
    "\n",
    "  red_ar = np.empty((width,height))\n",
    "  green_ar = np.empty((width,height))\n",
    "  blue_ar = np.empty((width,height))\n",
    "\n",
    "  row = 0\n",
    "  col = 0\n",
    "\n",
    "  for start in range(0, len(s), 8):\n",
    "    red_ar[row, col] = int(s[start:start+2], 16)\n",
    "    green_ar[row, col] = int(s[start+2:start+4], 16)\n",
    "    blue_ar[row, col] = int(s[start+4:start+6], 16)\n",
    "\n",
    "    if row < width-1:\n",
    "      row += 1\n",
    "    else:\n",
    "      col += 1\n",
    "      row = 0\n",
    "      \n",
    "  red_ar = red_ar.T\n",
    "  green_ar = green_ar.T\n",
    "  blue_ar = blue_ar.T\n",
    "\n",
    "  return np.concatenate((red_ar[...,np.newaxis],green_ar[...,np.newaxis], blue_ar[...,np.newaxis]),axis=2)"
   ]
  },
  {
   "cell_type": "code",
   "execution_count": null,
   "metadata": {
    "collapsed": false
   },
   "outputs": [],
   "source": [
    "# red_screens = [get_channels_from_hex(s)[0] for s in screens]\n",
    "img = get_img_mat_from_hex(s)\n",
    "plt.imshow(img)\n",
    "imgs = [get_img_mat_from_hex(s) for s in screens]"
   ]
  },
  {
   "cell_type": "code",
   "execution_count": null,
   "metadata": {
    "collapsed": false
   },
   "outputs": [],
   "source": []
  },
  {
   "cell_type": "code",
   "execution_count": null,
   "metadata": {
    "collapsed": true
   },
   "outputs": [],
   "source": []
  }
 ],
 "metadata": {
  "kernelspec": {
   "display_name": "Python 3",
   "language": "python",
   "name": "python3"
  },
  "language_info": {
   "codemirror_mode": {
    "name": "ipython",
    "version": 3
   },
   "file_extension": ".py",
   "mimetype": "text/x-python",
   "name": "python",
   "nbconvert_exporter": "python",
   "pygments_lexer": "ipython3",
   "version": "3.5.2"
  }
 },
 "nbformat": 4,
 "nbformat_minor": 1
}
