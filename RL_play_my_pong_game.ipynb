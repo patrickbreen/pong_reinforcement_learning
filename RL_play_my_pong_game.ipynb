{
 "cells": [
  {
   "cell_type": "code",
   "execution_count": null,
   "metadata": {
    "collapsed": false
   },
   "outputs": [
    {
     "name": "stderr",
     "output_type": "stream",
     "text": [
      "Using TensorFlow backend.\n"
     ]
    }
   ],
   "source": [
    "# modified from https://github.com/keon/deep-q-learning/blob/master/cartpole.py\n",
    "\n",
    "import copy\n",
    "from collections import deque\n",
    "\n",
    "from keras.models import Sequential\n",
    "from keras.layers import Dense\n",
    "from keras.optimizers import RMSprop\n",
    "import numpy as np\n",
    "\n",
    "from human_play_pong import MyPongEnv\n",
    "\n",
    "episodes = 1000\n",
    "\n",
    "class DQNAgent:\n",
    "  def __init__(self, env):\n",
    "    self.env = env\n",
    "    self.memory = deque(maxlen=10000)\n",
    "    self.gamma = 0.9  # decay rate\n",
    "    self.epsilon = 0.7  # exploration\n",
    "    self.epsilon_decay = .99\n",
    "    self.epsilon_min = 0.05\n",
    "    self.learning_rate = 0.0001\n",
    "    self._build_model()\n",
    "\n",
    "  def _build_model(self):\n",
    "    # Deep-Q learning Model\n",
    "    model = Sequential()\n",
    "    model.add(Dense(64, input_dim=self.env.STATE_SIZE, activation='tanh', init='he_uniform'))\n",
    "    model.add(Dense(128, activation='tanh', init='he_uniform'))\n",
    "    model.add(Dense(128, activation='tanh', init='he_uniform'))\n",
    "    model.add(Dense(2, activation='linear', init='he_uniform'))\n",
    "    model.compile(loss='mse', optimizer=RMSprop(lr=self.learning_rate))\n",
    "    self.model = model\n",
    "\n",
    "  def remember(self, state, action, reward, next_state):\n",
    "    self.memory.append((state, action, reward, next_state))\n",
    "\n",
    "  def act(self, state):\n",
    "    if np.random.rand() <= self.epsilon:\n",
    "      return self.env.sample_action_space()\n",
    "    act_values = self.model.predict(state)\n",
    "    max_action = np.argmax(act_values[0])\n",
    "    ret_array = np.zeros((3,), dtype=int)\n",
    "    ret_array[max_action] = 1\n",
    "    return ret_array  # returns action\n",
    "\n",
    "  def replay(self, batch_size):\n",
    "    batchs = min(batch_size, len(self.memory))\n",
    "    batchs = np.random.choice(len(self.memory), batchs)\n",
    "    for i in batchs:\n",
    "      state, action, reward, next_state = self.memory[i]\n",
    "      target = reward + self.gamma * np.amax(self.model.predict(next_state)[0])\n",
    "      target_f = self.model.predict(state)\n",
    "      target_f[0][action] = target\n",
    "      self.model.fit(state, target_f, nb_epoch=1, verbose=0)\n",
    "    if self.epsilon > self.epsilon_min:\n",
    "      self.epsilon *= self.epsilon_decay\n",
    "\n",
    "\n",
    "env = MyPongEnv()\n",
    "agent = DQNAgent(env)\n",
    "\n",
    "# run an episode\n",
    "for e in range(episodes):\n",
    "  state = env.reset()\n",
    "  state = np.reshape(state, [1, 3])\n",
    "  \n",
    "  # run for 5000 time steps per episode\n",
    "  for time_t in range(5000):\n",
    "    env.render()\n",
    "    action = agent.act(state)\n",
    "    next_state, reward, done = env.step(action)\n",
    "    next_state = np.reshape(next_state, [1, 3])\n",
    "    reward = -100 if done else reward\n",
    "    agent.remember(state, action, reward, next_state)\n",
    "    state = copy.deepcopy(next_state)\n",
    "    if done:\n",
    "      print(\"episode: {}/{}, score: {}, memory size: {}, e: {}\"\n",
    "            .format(e, episodes, time_t, len(agent.memory), agent.epsilon))\n",
    "      break # if done go to next episode\n",
    "    agent.replay(32)"
   ]
  },
  {
   "cell_type": "code",
   "execution_count": null,
   "metadata": {
    "collapsed": false
   },
   "outputs": [],
   "source": []
  },
  {
   "cell_type": "code",
   "execution_count": null,
   "metadata": {
    "collapsed": true
   },
   "outputs": [],
   "source": []
  }
 ],
 "metadata": {
  "kernelspec": {
   "display_name": "Python 3",
   "language": "python",
   "name": "python3"
  },
  "language_info": {
   "codemirror_mode": {
    "name": "ipython",
    "version": 3
   },
   "file_extension": ".py",
   "mimetype": "text/x-python",
   "name": "python",
   "nbconvert_exporter": "python",
   "pygments_lexer": "ipython3",
   "version": "3.5.2"
  }
 },
 "nbformat": 4,
 "nbformat_minor": 1
}
